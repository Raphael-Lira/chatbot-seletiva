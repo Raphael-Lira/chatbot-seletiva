{
 "cells": [
  {
   "cell_type": "code",
   "execution_count": 21,
   "id": "085aa7b4",
   "metadata": {},
   "outputs": [
    {
     "name": "stdout",
     "output_type": "stream",
     "text": [
      "✔ Download and installation successful\n",
      "You can now load the package via spacy.load('en_core_web_sm')\n"
     ]
    }
   ],
   "source": [
    "from chatterbot import ChatBot\n",
    "from chatterbot.trainers import ChatterBotCorpusTrainer\n",
    "from spacy.cli import download\n",
    "from chatterbot.trainers import ListTrainer\n",
    "#Solução para corrigir um bug nas bibliotecas que ocorre com o chatterbot\n",
    "download('en_core_web_sm')\n",
    "class ENGSM:\n",
    "    ISO_639_1 = 'en_core_web_sm'\n",
    "##############################################\n",
    "\n",
    "chatbot = ChatBot('BotAssistente', tagger_language= ENGSM)"
   ]
  },
  {
   "cell_type": "markdown",
   "id": "ca582441",
   "metadata": {},
   "source": [
    "## Codigo principal "
   ]
  },
  {
   "cell_type": "code",
   "execution_count": 28,
   "id": "2ae610db",
   "metadata": {},
   "outputs": [
    {
     "name": "stdout",
     "output_type": "stream",
     "text": [
      "List Trainer: [####################] 100%\n",
      "Digite aqui a mensagem: Olá tudo bem ?\n",
      "Tudo certo e por aí?\n",
      "Digite aqui a mensagem: Sim como você está ?\n",
      "Como vai o trabalho?\n"
     ]
    },
    {
     "ename": "KeyboardInterrupt",
     "evalue": "Interrupted by user",
     "output_type": "error",
     "traceback": [
      "\u001b[1;31m---------------------------------------------------------------------------\u001b[0m",
      "\u001b[1;31mKeyboardInterrupt\u001b[0m                         Traceback (most recent call last)",
      "\u001b[1;32m<ipython-input-28-8e7b950958b5>\u001b[0m in \u001b[0;36m<module>\u001b[1;34m\u001b[0m\n\u001b[0;32m     73\u001b[0m \u001b[1;33m\u001b[0m\u001b[0m\n\u001b[0;32m     74\u001b[0m \u001b[1;32mwhile\u001b[0m \u001b[1;32mTrue\u001b[0m\u001b[1;33m:\u001b[0m\u001b[1;33m\u001b[0m\u001b[1;33m\u001b[0m\u001b[0m\n\u001b[1;32m---> 75\u001b[1;33m     \u001b[0mmensagem\u001b[0m \u001b[1;33m=\u001b[0m \u001b[0minput\u001b[0m\u001b[1;33m(\u001b[0m\u001b[1;34m'Digite aqui a mensagem: '\u001b[0m\u001b[1;33m)\u001b[0m\u001b[1;33m\u001b[0m\u001b[1;33m\u001b[0m\u001b[0m\n\u001b[0m\u001b[0;32m     76\u001b[0m     \u001b[1;32mif\u001b[0m \u001b[0mmensagem\u001b[0m \u001b[1;33m==\u001b[0m \u001b[1;34m''\u001b[0m\u001b[1;33m:\u001b[0m\u001b[1;33m\u001b[0m\u001b[1;33m\u001b[0m\u001b[0m\n\u001b[0;32m     77\u001b[0m         \u001b[1;32mbreak\u001b[0m\u001b[1;33m\u001b[0m\u001b[1;33m\u001b[0m\u001b[0m\n",
      "\u001b[1;32m~\\anaconda3\\envs\\chatbotpython\\lib\\site-packages\\ipykernel\\kernelbase.py\u001b[0m in \u001b[0;36mraw_input\u001b[1;34m(self, prompt)\u001b[0m\n\u001b[0;32m    852\u001b[0m             \u001b[0mself\u001b[0m\u001b[1;33m.\u001b[0m\u001b[0m_parent_ident\u001b[0m\u001b[1;33m,\u001b[0m\u001b[1;33m\u001b[0m\u001b[1;33m\u001b[0m\u001b[0m\n\u001b[0;32m    853\u001b[0m             \u001b[0mself\u001b[0m\u001b[1;33m.\u001b[0m\u001b[0m_parent_header\u001b[0m\u001b[1;33m,\u001b[0m\u001b[1;33m\u001b[0m\u001b[1;33m\u001b[0m\u001b[0m\n\u001b[1;32m--> 854\u001b[1;33m             \u001b[0mpassword\u001b[0m\u001b[1;33m=\u001b[0m\u001b[1;32mFalse\u001b[0m\u001b[1;33m,\u001b[0m\u001b[1;33m\u001b[0m\u001b[1;33m\u001b[0m\u001b[0m\n\u001b[0m\u001b[0;32m    855\u001b[0m         )\n\u001b[0;32m    856\u001b[0m \u001b[1;33m\u001b[0m\u001b[0m\n",
      "\u001b[1;32m~\\anaconda3\\envs\\chatbotpython\\lib\\site-packages\\ipykernel\\kernelbase.py\u001b[0m in \u001b[0;36m_input_request\u001b[1;34m(self, prompt, ident, parent, password)\u001b[0m\n\u001b[0;32m    893\u001b[0m             \u001b[1;32mexcept\u001b[0m \u001b[0mKeyboardInterrupt\u001b[0m\u001b[1;33m:\u001b[0m\u001b[1;33m\u001b[0m\u001b[1;33m\u001b[0m\u001b[0m\n\u001b[0;32m    894\u001b[0m                 \u001b[1;31m# re-raise KeyboardInterrupt, to truncate traceback\u001b[0m\u001b[1;33m\u001b[0m\u001b[1;33m\u001b[0m\u001b[1;33m\u001b[0m\u001b[0m\n\u001b[1;32m--> 895\u001b[1;33m                 \u001b[1;32mraise\u001b[0m \u001b[0mKeyboardInterrupt\u001b[0m\u001b[1;33m(\u001b[0m\u001b[1;34m\"Interrupted by user\"\u001b[0m\u001b[1;33m)\u001b[0m \u001b[1;32mfrom\u001b[0m \u001b[1;32mNone\u001b[0m\u001b[1;33m\u001b[0m\u001b[1;33m\u001b[0m\u001b[0m\n\u001b[0m\u001b[0;32m    896\u001b[0m             \u001b[1;32mexcept\u001b[0m \u001b[0mException\u001b[0m \u001b[1;32mas\u001b[0m \u001b[0me\u001b[0m\u001b[1;33m:\u001b[0m\u001b[1;33m\u001b[0m\u001b[1;33m\u001b[0m\u001b[0m\n\u001b[0;32m    897\u001b[0m                 \u001b[0mself\u001b[0m\u001b[1;33m.\u001b[0m\u001b[0mlog\u001b[0m\u001b[1;33m.\u001b[0m\u001b[0mwarning\u001b[0m\u001b[1;33m(\u001b[0m\u001b[1;34m\"Invalid Message:\"\u001b[0m\u001b[1;33m,\u001b[0m \u001b[0mexc_info\u001b[0m\u001b[1;33m=\u001b[0m\u001b[1;32mTrue\u001b[0m\u001b[1;33m)\u001b[0m\u001b[1;33m\u001b[0m\u001b[1;33m\u001b[0m\u001b[0m\n",
      "\u001b[1;31mKeyboardInterrupt\u001b[0m: Interrupted by user"
     ]
    }
   ],
   "source": [
    "import datetime\n",
    "from chatterbot import ChatBot\n",
    "from chatterbot.trainers import ListTrainer\n",
    "\n",
    "from fuzzywuzzy import process # Biblioteca para correlacionar pontuações entre o usuario e o chat, com ela identifcamos a pergunta e através de pontuações ele escolhe a melhor resposta \n",
    "agora = datetime.datetime.now()\n",
    "hora = agora.strftime(\"%H:%M:%S\")\n",
    "\n",
    "chatbot = ChatBot('BotAssistente', tagger_language=ENGSM) # Iniciação do chatbot\n",
    "# Lista a ser treinada\n",
    "conversa = [\n",
    "    \"Olá, como você está?\",\n",
    "    \"Estou bem, obrigado! E você?\",\n",
    "    \"Bom dia, tudo bem?\",\n",
    "    \"Bom dia, tudo sim e com você?\",\n",
    "    \"Olá, tudo bem?\",\n",
    "    \"Sim e aí, tudo tranquilo?\",\n",
    "    \"Que horas são?\",\n",
    "    f\"São {hora}\",\n",
    "    \"Está tudo bem?\",\n",
    "    \"Tudo certo e por aí?\",\n",
    "    \"Oi, qual é a boa?\",\n",
    "    \"Oi! A boa é estar aqui para ajudar. E contigo?\",\n",
    "    \"Oi, como foi o seu dia?\",\n",
    "    \"Oi! Meu dia foi bom, obrigado. E o seu?\",\n",
    "    \"Salve\",\n",
    "    \"Salve! Como posso contribuir para o seu dia?\",\n",
    "    \"Oi, pode me tirar uma dúvida?\",\n",
    "    \"Sim, claro! Qual é a sua dúvida?\",\n",
    "    \"Olá\",\n",
    "    \"Olá, tudo bem? Como posso ajudar?\",\n",
    "    \"Oi, tudo bem?\",\n",
    "    \"Tudo sim, como você está?\",\n",
    "    \"Como vai o trabalho?\",\n",
    "    \"O trabalho vai bem, obrigado. E o seu?\",\n",
    "    \"Você tem alguma ideia de negócio?\",\n",
    "    \"Sim, tenho várias! Se quiser, posso compartilhar algumas ideias de negócios.\",\n",
    "    \"O que você faz da vida?\",\n",
    "    \"Trabalho na área de tecnologia. E você?\",\n",
    "    \"Como está o tempo hoje?\",\n",
    "    \"Está ensolarado e agradável. Um ótimo dia para fazer algo ao ar livre!\",\n",
    "    \"Você gosta de viajar?\",\n",
    "    \"Sim, adoro viajar! Já conheci vários lugares incríveis.\",\n",
    "    \"Qual é o seu hobby?\",\n",
    "    \"Gosto de ler e aprender coisas novas. E você?\",\n",
    "    \"Você já pensou em empreender?\",\n",
    "    \"Sim, empreender é uma ótima maneira de transformar ideias em realidade. Tem algum projeto em mente?\",\n",
    "    \"Qual é o seu filme favorito?\",\n",
    "    \"Difícil escolher apenas um, mas gosto muito de filmes de ficção científica. E você?\",\n",
    "    \"Qual é a sua comida favorita?\",\n",
    "    \"Gosto de comida italiana. E você?\",\n",
    "    \"Você pratica algum esporte?\",\n",
    "    \"Sim, tento manter uma rotina de exercícios. Ajuda a manter a mente saudável!\",\n",
    "    \"Qual é a última música que você ouviu?\",\n",
    "    \"Ouvi uma música nova da minha playlist hoje. E você, tem alguma recomendação?\",\n",
    "    \"O que você acha sobre inteligência artificial?\",\n",
    "    \"A inteligência artificial é fascinante! Ela tem o potencial de transformar muitos setores.\",\n",
    "    \"Qual é a sua opinião sobre política?\",\n",
    "    \"Política é um assunto complexo, mas é importante se envolver e se informar para tomar decisões conscientes.\",\n",
    "    \"Você já ouviu falar sobre a teoria das cordas?\",\n",
    "    \"Sim, é uma teoria intrigante na física. Você tem interesse em teorias científicas?\",\n",
    "    \"O que você acha sobre viagens espaciais?\",\n",
    "    \"Viagens espaciais são incríveis! O avanço da exploração espacial abre novas possibilidades para o futuro.\",\n",
    "    \"Qual é o último livro que você leu?\",\n",
    "    \"Li um livro sobre inteligência artificial recentemente. E você, tem alguma recomendação?\",\n",
    "    \"O que você pensa sobre energia renovável?\",\n",
    "    \"Energia renovável é essencial para o futuro sustentável do planeta. Você tem práticas sustentáveis?\",\n",
    "]\n",
    "with open(\"perguntas.txt\", \"w\") as file: # abrindo um arquivo txt para salvar todas as perguntas do usuario pra futuramenter uma melhoria \n",
    "    file.write(\"Perguntas feitas pelo usuário:\\n\\n\")\n",
    "\n",
    "trainer = ListTrainer(chatbot)\n",
    "trainer.train(conversa)\n",
    "\n",
    "while True:\n",
    "    mensagem = input('Digite aqui a mensagem: ')\n",
    "    if mensagem == '':\n",
    "        break\n",
    "    else:\n",
    "        # usando a biblioteca fuzzy pra achar a melhor correspondencia \n",
    "        melhor_correspondencia, pontuacao = process.extractOne(mensagem, conversa)\n",
    "        \n",
    "        with open(\"perguntas.txt\", \"a\") as file: # Colocando a pergunta no arquivo txt\n",
    "            file.write(f\"{mensagem}\\n\")\n",
    "        if pontuacao >= 70:  # definindo limite de acertetivade \n",
    "            print(chatbot.get_response(melhor_correspondencia))\n",
    "        else:\n",
    "            print('Desculpe, no momento não temos uma resposta para isso, por isso iremos salvar sua pergunta para trabalharmos nisso')\n",
    "\n",
    "# Limpar banco de dados\n",
    "chatbot.storage.drop()\n"
   ]
  },
  {
   "cell_type": "markdown",
   "id": "1d6a375c",
   "metadata": {},
   "source": [
    "## Codigo exemplo de uma outra maneira "
   ]
  },
  {
   "cell_type": "code",
   "execution_count": 12,
   "id": "362235be",
   "metadata": {},
   "outputs": [
    {
     "name": "stdout",
     "output_type": "stream",
     "text": [
      "Training compliment.yml: [####################] 100%\n",
      "Training conversations.yml: [####################] 100%\n",
      "Training greetings.yml: [####################] 100%\n",
      "Training linguistic_knowledge.yml: [####################] 100%\n",
      "Training proverbs.yml: [####################] 100%\n",
      "Training suggestions.yml: [####################] 100%\n",
      "Training trivia.yml: [####################] 100%\n",
      "Training unilab.yml: [####################] 100%\n",
      "Você: Olá tudo bem ?\n",
      "ChatBot: Olá!\n",
      "Você: Como vai ?\n",
      "ChatBot: Lamento, mas não compreendi.\n"
     ]
    },
    {
     "ename": "KeyboardInterrupt",
     "evalue": "Interrupted by user",
     "output_type": "error",
     "traceback": [
      "\u001b[1;31m---------------------------------------------------------------------------\u001b[0m",
      "\u001b[1;31mKeyboardInterrupt\u001b[0m                         Traceback (most recent call last)",
      "\u001b[1;32m<ipython-input-12-317812e8a508>\u001b[0m in \u001b[0;36m<module>\u001b[1;34m\u001b[0m\n\u001b[0;32m     57\u001b[0m \u001b[1;31m# Teste o chatbot\u001b[0m\u001b[1;33m\u001b[0m\u001b[1;33m\u001b[0m\u001b[1;33m\u001b[0m\u001b[0m\n\u001b[0;32m     58\u001b[0m \u001b[1;32mwhile\u001b[0m \u001b[1;32mTrue\u001b[0m\u001b[1;33m:\u001b[0m\u001b[1;33m\u001b[0m\u001b[1;33m\u001b[0m\u001b[0m\n\u001b[1;32m---> 59\u001b[1;33m     \u001b[0mpergunta_usuario\u001b[0m \u001b[1;33m=\u001b[0m \u001b[0minput\u001b[0m\u001b[1;33m(\u001b[0m\u001b[1;34m\"Você: \"\u001b[0m\u001b[1;33m)\u001b[0m\u001b[1;33m\u001b[0m\u001b[1;33m\u001b[0m\u001b[0m\n\u001b[0m\u001b[0;32m     60\u001b[0m     \u001b[1;32mif\u001b[0m \u001b[0mpergunta_usuario\u001b[0m\u001b[1;33m.\u001b[0m\u001b[0mlower\u001b[0m\u001b[1;33m(\u001b[0m\u001b[1;33m)\u001b[0m \u001b[1;33m==\u001b[0m \u001b[1;34m'sair'\u001b[0m\u001b[1;33m:\u001b[0m\u001b[1;33m\u001b[0m\u001b[1;33m\u001b[0m\u001b[0m\n\u001b[0;32m     61\u001b[0m         \u001b[1;32mbreak\u001b[0m\u001b[1;33m\u001b[0m\u001b[1;33m\u001b[0m\u001b[0m\n",
      "\u001b[1;32m~\\anaconda3\\envs\\chatbotpython\\lib\\site-packages\\ipykernel\\kernelbase.py\u001b[0m in \u001b[0;36mraw_input\u001b[1;34m(self, prompt)\u001b[0m\n\u001b[0;32m    852\u001b[0m             \u001b[0mself\u001b[0m\u001b[1;33m.\u001b[0m\u001b[0m_parent_ident\u001b[0m\u001b[1;33m,\u001b[0m\u001b[1;33m\u001b[0m\u001b[1;33m\u001b[0m\u001b[0m\n\u001b[0;32m    853\u001b[0m             \u001b[0mself\u001b[0m\u001b[1;33m.\u001b[0m\u001b[0m_parent_header\u001b[0m\u001b[1;33m,\u001b[0m\u001b[1;33m\u001b[0m\u001b[1;33m\u001b[0m\u001b[0m\n\u001b[1;32m--> 854\u001b[1;33m             \u001b[0mpassword\u001b[0m\u001b[1;33m=\u001b[0m\u001b[1;32mFalse\u001b[0m\u001b[1;33m,\u001b[0m\u001b[1;33m\u001b[0m\u001b[1;33m\u001b[0m\u001b[0m\n\u001b[0m\u001b[0;32m    855\u001b[0m         )\n\u001b[0;32m    856\u001b[0m \u001b[1;33m\u001b[0m\u001b[0m\n",
      "\u001b[1;32m~\\anaconda3\\envs\\chatbotpython\\lib\\site-packages\\ipykernel\\kernelbase.py\u001b[0m in \u001b[0;36m_input_request\u001b[1;34m(self, prompt, ident, parent, password)\u001b[0m\n\u001b[0;32m    893\u001b[0m             \u001b[1;32mexcept\u001b[0m \u001b[0mKeyboardInterrupt\u001b[0m\u001b[1;33m:\u001b[0m\u001b[1;33m\u001b[0m\u001b[1;33m\u001b[0m\u001b[0m\n\u001b[0;32m    894\u001b[0m                 \u001b[1;31m# re-raise KeyboardInterrupt, to truncate traceback\u001b[0m\u001b[1;33m\u001b[0m\u001b[1;33m\u001b[0m\u001b[1;33m\u001b[0m\u001b[0m\n\u001b[1;32m--> 895\u001b[1;33m                 \u001b[1;32mraise\u001b[0m \u001b[0mKeyboardInterrupt\u001b[0m\u001b[1;33m(\u001b[0m\u001b[1;34m\"Interrupted by user\"\u001b[0m\u001b[1;33m)\u001b[0m \u001b[1;32mfrom\u001b[0m \u001b[1;32mNone\u001b[0m\u001b[1;33m\u001b[0m\u001b[1;33m\u001b[0m\u001b[0m\n\u001b[0m\u001b[0;32m    896\u001b[0m             \u001b[1;32mexcept\u001b[0m \u001b[0mException\u001b[0m \u001b[1;32mas\u001b[0m \u001b[0me\u001b[0m\u001b[1;33m:\u001b[0m\u001b[1;33m\u001b[0m\u001b[1;33m\u001b[0m\u001b[0m\n\u001b[0;32m    897\u001b[0m                 \u001b[0mself\u001b[0m\u001b[1;33m.\u001b[0m\u001b[0mlog\u001b[0m\u001b[1;33m.\u001b[0m\u001b[0mwarning\u001b[0m\u001b[1;33m(\u001b[0m\u001b[1;34m\"Invalid Message:\"\u001b[0m\u001b[1;33m,\u001b[0m \u001b[0mexc_info\u001b[0m\u001b[1;33m=\u001b[0m\u001b[1;32mTrue\u001b[0m\u001b[1;33m)\u001b[0m\u001b[1;33m\u001b[0m\u001b[1;33m\u001b[0m\u001b[0m\n",
      "\u001b[1;31mKeyboardInterrupt\u001b[0m: Interrupted by user"
     ]
    }
   ],
   "source": [
    "from chatterbot import ChatBot\n",
    "from chatterbot.trainers import ChatterBotCorpusTrainer\n",
    "from google.cloud import dialogflow\n",
    "from google.oauth2 import service_account\n",
    "import uuid\n",
    "import os\n",
    "caminho_credenciais = 'C:/Users/rapha/Documents/GitHub/chatbotemprego/chatbot-jyc9-d10cfe6dcda0.json' # Caminho de autenticações de credenciais instaladas de acordo e pedido pelo doc do dialog flow\n",
    "os.environ[\"GOOGLE_APPLICATION_CREDENTIALS\"] = caminho_credenciais\n",
    "# Configuração do ChatBot\n",
    "chatbot = ChatBot(\n",
    "    'BotAssistente',\n",
    "    logic_adapters=[\n",
    "        {\n",
    "            'import_path': 'chatterbot.logic.BestMatch',\n",
    "            'default_response': 'Desculpe, não entendi. Pode reformular?',\n",
    "            'maximum_similarity_threshold': 0.90\n",
    "        }\n",
    "    ], tagger_language= ENGSM\n",
    ") # Configurando o bot \n",
    "\n",
    "# Criando um trainer\n",
    "trainer = ChatterBotCorpusTrainer(chatbot)\n",
    "\n",
    "# Treinando para portugues\n",
    "trainer.train('chatterbot.corpus.portuguese')\n",
    "\n",
    "# Passando IDs para o dialog flow funcionar \n",
    "project_id = \"chatbot-jyc9\"\n",
    "language_code = \"pt-BR\"\n",
    "\n",
    "def buscando_intent(text):\n",
    "    session_client = dialogflow.SessionsClient()\n",
    "    session_id = str(uuid.uuid4())  # Gera um UUID único para cada sessão\n",
    "    session = session_client.session_path(project_id, session_id)\n",
    "\n",
    "    text_input = dialogflow.TextInput(text=text, language_code=language_code)\n",
    "    query_input = dialogflow.QueryInput(text=text_input)\n",
    "\n",
    "    response = session_client.detect_intent(\n",
    "        request={\"session\": session, \"query_input\": query_input}\n",
    "    )\n",
    "\n",
    "    return response.query_result.fulfillment_text\n",
    "\n",
    "# Função para obter a resposta do chatbot\n",
    "def obter_resposta(pergunta):\n",
    "\n",
    "    resposta_dialogflow = busncando_intent(pergunta)\n",
    "\n",
    "    # Se o Dialogflow não retornar uma resposta útil ele utlizao  chatter bot\n",
    "    if not resposta_dialogflow:\n",
    "        resposta_chatbot = str(chatbot.get_response(pergunta))\n",
    "        return resposta_chatbot\n",
    "\n",
    "    return resposta_dialogflow\n",
    "\n",
    "while True:\n",
    "    pergunta_usuario = input(\"Você: \")\n",
    "    if pergunta_usuario.lower() == 'sair':\n",
    "        break\n",
    "    resposta_bot = obter_resposta(pergunta_usuario)\n",
    "    print(f\"ChatBot: {resposta_bot}\")\n"
   ]
  },
  {
   "cell_type": "code",
   "execution_count": null,
   "id": "82d3221b",
   "metadata": {},
   "outputs": [],
   "source": []
  }
 ],
 "metadata": {
  "kernelspec": {
   "display_name": "Python 3",
   "language": "python",
   "name": "python3"
  },
  "language_info": {
   "codemirror_mode": {
    "name": "ipython",
    "version": 3
   },
   "file_extension": ".py",
   "mimetype": "text/x-python",
   "name": "python",
   "nbconvert_exporter": "python",
   "pygments_lexer": "ipython3",
   "version": "3.6.13"
  }
 },
 "nbformat": 4,
 "nbformat_minor": 5
}
